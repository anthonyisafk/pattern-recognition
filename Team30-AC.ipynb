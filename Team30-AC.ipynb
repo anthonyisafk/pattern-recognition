{
 "cells": [
  {
   "cell_type": "code",
   "execution_count": 8,
   "metadata": {},
   "outputs": [],
   "source": [
    "# Pattern Recognition - Electrical & Computer Engineering\n",
    "# 2023 Aristotle University Thessaloniki\n",
    "# @authors: Antonios Antoniou 9482, Konstantinos Kalamaras 9716\n",
    "# @emails: aantonii@ece.auth.gr, kkalamar@ece.auth.gr\n",
    "# Deliverables A, B, C of the semester assignment."
   ]
  },
  {
   "cell_type": "code",
   "execution_count": 9,
   "metadata": {},
   "outputs": [],
   "source": [
    "# First, we load the data. We then have to:\n",
    "#  - Split it into the training and testing set (50%-50%)\n",
    "#  - Split each of those sets into the features and labels (which is the last column)\n",
    "\n",
    "import numpy as np\n",
    "from sklearn import model_selection\n",
    "from sklearn.metrics import confusion_matrix, ConfusionMatrixDisplay\n",
    "\n",
    "filename = \"dataset.csv\"\n",
    "ds = np.loadtxt(filename, delimiter=\",\", dtype=np.float64)\n",
    "train_set, test_set = model_selection.train_test_split(ds, test_size=0.5, shuffle=True, random_state=0)\n",
    "X_train, y_train = train_set[:, 0:2], train_set[:, 2]\n",
    "X_test, y_test = test_set[:, 0:2], test_set[:, 2]"
   ]
  },
  {
   "cell_type": "code",
   "execution_count": 10,
   "metadata": {},
   "outputs": [
    {
     "data": {
      "text/plain": [
       "<sklearn.metrics._plot.confusion_matrix.ConfusionMatrixDisplay at 0x272c8098be0>"
      ]
     },
     "execution_count": 10,
     "metadata": {},
     "output_type": "execute_result"
    },
    {
     "data": {
      "image/png": "[encoded data removed]",
      "text/plain": [
       "<Figure size 432x288 with 2 Axes>"
      ]
     },
     "metadata": {
      "needs_background": "light"
     },
     "output_type": "display_data"
    }
   ],
   "source": [
    "# The Gaussian Naive Bayes classifier, by default assumes different covariance matrices for each class.\n",
    "# See here: https://scikit-learn.org/stable/modules/generated/sklearn.naive_bayes.GaussianNB.html\n",
    "# The `var_` attribute keeps the different variances of each feature, for each class.\n",
    "# The rest of the entries of the covariance matrix (i.e. {i,j:i!=j}) are zero,\n",
    "# because Naive Bayes assumes iid features.\n",
    "\n",
    "\"\"\" !\n",
    "We will rule out the actual algorithm used in the background by sklearn\n",
    "(Since we need one implementation where covariance matrices are the same for all classes, and one with different ones).\n",
    "We build an example in order to test the rest of the question.\n",
    "We still need to visualize the results, i.e. show the decision bounds and misclassified samples.\n",
    "! \"\"\"\n",
    "\n",
    "from sklearn.naive_bayes import GaussianNB\n",
    "\n",
    "gauss_model = GaussianNB()\n",
    "gauss_model.fit(X_train, y_train)\n",
    "\n",
    "p = gauss_model.predict(X_test)\n",
    "cm = confusion_matrix(y_test, p)\n",
    "cmd = ConfusionMatrixDisplay(cm)\n",
    "cmd.plot()\n"
   ]
  },
  {
   "cell_type": "code",
   "execution_count": null,
   "metadata": {},
   "outputs": [],
   "source": []
  }
 ],
 "metadata": {
  "kernelspec": {
   "display_name": "base",
   "language": "python",
   "name": "python3"
  },
  "language_info": {
   "codemirror_mode": {
    "name": "ipython",
    "version": 3
   },
   "file_extension": ".py",
   "mimetype": "text/x-python",
   "name": "python",
   "nbconvert_exporter": "python",
   "pygments_lexer": "ipython3",
   "version": "3.8.5"
  }
 },
 "nbformat": 4,
 "nbformat_minor": 2
}
