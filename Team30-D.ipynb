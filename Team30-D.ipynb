{
 "cells": [
  {
   "cell_type": "markdown",
   "metadata": {},
   "source": [
    "## Question D - Custom classifier on Dataset D"
   ]
  },
  {
   "cell_type": "code",
   "execution_count": 13,
   "metadata": {},
   "outputs": [],
   "source": [
    "import numpy as np\n",
    "\n",
    "from matplotlib import pyplot as plt\n",
    "\n",
    "from sklearn.neural_network import MLPClassifier\n",
    "from sklearn.neighbors import KNeighborsClassifier\n",
    "from sklearn.svm import SVC\n",
    "\n",
    "from sklearn import model_selection\n",
    "from sklearn import metrics\n",
    "from sklearn.utils import resample\n",
    "\n",
    "from statistics import mode\n",
    "\n",
    "from imblearn.over_sampling import SMOTE\n",
    "\n",
    "from typing import Tuple\n"
   ]
  },
  {
   "cell_type": "code",
   "execution_count": 14,
   "metadata": {},
   "outputs": [],
   "source": [
    "# Load the training data from the `datasetC.csv` file\n",
    "# We use a proportion of \\@ test_size * N\\@ samples for training and the rest for testing-validation.\n",
    "\n",
    "filename = \"datasetC.csv\"\n",
    "test_size = 0.5\n",
    "labeled_data = np.loadtxt(filename, delimiter=\",\", dtype=np.float64)\n",
    "N = labeled_data.shape[0]\n",
    "D = labeled_data.shape[1] - 1\n",
    "K = len(np.unique(labeled_data[:, D]))\n",
    "\n",
    "train_set, test_set = model_selection.train_test_split(labeled_data, test_size=test_size, shuffle=True, random_state=0)\n",
    "X_train, y_train = train_set[:, 0:D], train_set[:, D].astype(int)\n",
    "X_test, y_test = test_set[:, 0:D], test_set[:, D].astype(int)\n",
    "N_train, N_test = y_train.shape[0], y_test.shape[0]"
   ]
  },
  {
   "cell_type": "code",
   "execution_count": 15,
   "metadata": {},
   "outputs": [
    {
     "name": "stdout",
     "output_type": "stream",
     "text": [
      " > Number of components : 350, explaining 0.900 of the total variance.\n"
     ]
    },
    {
     "data": {
      "text/plain": [
       "(array([26., 34., 35., 29., 29., 40., 43., 73., 67., 24.]),\n",
       " array([0.77366294, 0.80151073, 0.82935852, 0.85720631, 0.8850541 ,\n",
       "        0.91290189, 0.94074969, 0.96859748, 0.99644527, 1.02429306,\n",
       "        1.05214085]),\n",
       " <BarContainer object of 10 artists>)"
      ]
     },
     "execution_count": 15,
     "metadata": {},
     "output_type": "execute_result"
    },
    {
     "data": {
      "image/png": "[encoded data removed]",
      "text/plain": [
       "<Figure size 432x288 with 1 Axes>"
      ]
     },
     "metadata": {
      "needs_background": "light"
     },
     "output_type": "display_data"
    }
   ],
   "source": [
    "'''\n",
    "Data playground:\n",
    "Here we experiment with the properties of the dataset, in an attempt to determine the most suitable classifier.\n",
    "'''\n",
    "\n",
    "X = labeled_data[:, 0:D]\n",
    "Y = labeled_data[:, D]\n",
    "\n",
    "'''\n",
    "First, check whether we could use PCA. We wil check how many components we need to keep,\n",
    "in order to maintain 90% of the explained variance.\n",
    "'''\n",
    "variance_ratio = 0.9\n",
    "C = np.cov(X, rowvar=False) # `rowvar=False`: each row of X is a sample\n",
    "ev = np.linalg.eigvals(C)\n",
    "\n",
    "total_var = np.sum(ev)\n",
    "explained_var = 0.0\n",
    "nc = 0 # number of components to keep\n",
    "ratio = 0.0\n",
    "\n",
    "for i in range(D):\n",
    "    explained_var += ev[i]\n",
    "    ratio = explained_var / total_var\n",
    "    if ratio >= variance_ratio:\n",
    "        nc = i\n",
    "        print(f\" > Number of components : {nc}, explaining {ratio:.3f} of the total variance.\")\n",
    "        break\n",
    "\n",
    "'''\n",
    "The number of components is too high to bother transforming thre data.\n",
    "The explained variance is equally distributed amongst almost all features.\n",
    "So, we have no concrete way to visualize the data.\n",
    "********************\n",
    "Now, we will check whether we can improve our data by scaling, or normalizing it.\n",
    "We will check the means and variances for all 400 features.\n",
    "'''\n",
    "means = np.mean(X, axis=0) # the mean across all columns\n",
    "plt.hist(means)\n",
    "plt.hist(np.diag(C))\n",
    "# There's no scaling that needs to be done, since all features are in the same order of magnitude."
   ]
  },
  {
   "cell_type": "code",
   "execution_count": 16,
   "metadata": {},
   "outputs": [],
   "source": [
    "'''\n",
    "Creating a class like the one used in Question C.\n",
    "Will be used in order to store information on the hyperparameters\n",
    "of the model that was considered the best one after an atypical grid search.\n",
    "'''\n",
    "class MLP_training_info:\n",
    "    # Use sklearn's default values.\n",
    "    def __init__(\n",
    "        self, *,\n",
    "        hidden_layer_sizes: Tuple[int] = (100),\n",
    "        activation: str = \"relu\",\n",
    "        solver: str = \"adam\",\n",
    "        learning_rate: str = \"constant\",\n",
    "        learning_rate_init: float = 0.001,\n",
    "        tol: float = 1.e-4,\n",
    "        momentum: float = 0.9\n",
    "    ):\n",
    "        self.hidden_layer_sizes = hidden_layer_sizes\n",
    "        self.activation = activation\n",
    "        self.solver = solver\n",
    "        self.learning_rate = learning_rate\n",
    "        self.learning_rate_init = learning_rate_init\n",
    "        self.tol = tol\n",
    "        self.momentum = momentum\n",
    "\n",
    "    def __str__(self):\n",
    "        s = (f\"{self.hidden_layer_sizes}, f={self.activation}, s={self.solver}, \"\n",
    "            f\"eta={self.learning_rate_init}|{self.learning_rate}, \"\n",
    "            f\"tol={self.tol}, m={self.momentum}\")\n",
    "        return s"
   ]
  },
  {
   "cell_type": "code",
   "execution_count": 17,
   "metadata": {},
   "outputs": [],
   "source": [
    "'''\n",
    "Uses the custom MLP training parameter class in order to pass the values\n",
    "to sklearn's MLPClassifier module.\n",
    "'''\n",
    "def train_mlp(X_train, y_train, info: MLP_training_info) -> MLPClassifier:\n",
    "    model = MLPClassifier(\n",
    "        activation=info.activation,\n",
    "        solver=info.solver,\n",
    "        learning_rate=info.learning_rate,\n",
    "        learning_rate_init=info.learning_rate_init,\n",
    "        tol=info.tol,\n",
    "        momentum=info.momentum,\n",
    "        shuffle=False\n",
    "    )\n",
    "    model.fit(X_train, y_train)\n",
    "    return model\n",
    "\n",
    "'''\n",
    "Trains an MLP using the parameters stored in \\@ info \\@.\n",
    "Displays the confustion matrix and the accuracy of the model,\n",
    "along with the utilized parameters.\n",
    "'''\n",
    "def test_params(\n",
    "    X_train: np.ndarray, y_train: np.ndarray,\n",
    "    X_test: np.ndarray, y_test: np.ndarray, info: MLP_training_info\n",
    "):\n",
    "    model = train_mlp(X_train, y_train, info)\n",
    "    y_pred = model.predict(X_test)\n",
    "    cm = metrics.confusion_matrix(y_test, y_pred)\n",
    "    cm_plot = metrics.ConfusionMatrixDisplay(cm)\n",
    "    cm_plot.plot()\n",
    "    cm_plot.ax_.set_title(info.__str__())\n",
    "    print(f\"{info}: {metrics.accuracy_score(y_test, y_pred)}\")"
   ]
  },
  {
   "cell_type": "code",
   "execution_count": 18,
   "metadata": {},
   "outputs": [],
   "source": [
    "# Split the testing dataset in half.\n",
    "# First half will remain the testing data, second half will be used for validation.\n",
    "Nt = int(N_test / 2)\n",
    "Nv = N_test - Nt\n",
    "X_testc, y_testc = X_test[:, 0:Nt], y_test[0:Nt]\n",
    "X_validate, y_validate = X_test[:, Nt:], y_test[Nt:]"
   ]
  },
  {
   "cell_type": "code",
   "execution_count": 19,
   "metadata": {},
   "outputs": [],
   "source": [
    "# info = MLP_training_info(\n",
    "#     hidden_layer_sizes = [int(3*D/2), int(2*D/3)],\n",
    "#     learning_rate_init = 0.005,\n",
    "#     learning_rate = \"adaptive\",\n",
    "#     solver = \"sgd\"\n",
    "# )\n",
    "\n",
    "# info.solver = \"lbfgs\"\n",
    "# test_params(X_train, y_train, X_test, y_test, info)\n",
    "\n",
    "# info.hidden_layer_sizes = (int(D/2), int(D/2))\n",
    "# test_params(X_train, y_train, X_test, y_test, info)\n",
    "\n",
    "# info.activation = \"logistic\"\n",
    "# test_params(X_train, y_train, X_test, y_test, info)\n",
    "\n",
    "# info.learning_rate_init = 0.001\n",
    "# test_params(X_train, y_train, X_test, y_test, info)\n",
    "\n",
    "# info.learning_rate = \"constant\"\n",
    "# test_params(X_train, y_train, X_test, y_test, info)\n",
    "\n",
    "# info.learning_rate = \"invscaling\"\n",
    "# test_params(X_train, y_train, X_test, y_test, info)\n",
    "\n",
    "# info.activation = \"tanh\"\n",
    "# test_params(X_train, y_train, X_test, y_test, info)\n",
    "\n",
    "# info.activation = \"logistic\"\n",
    "# info.tol = 1.e-5\n",
    "# test_params(X_train, y_train, X_test, y_test, info)\n",
    "\n",
    "# info.hidden_layer_sizes = (D)\n",
    "# info.tol = 5.e-3\n",
    "# info.momentum = 0.95\n",
    "# test_params(X_train, y_train, X_test, y_test, info)\n",
    "\n",
    "# info.activation = \"relu\"\n",
    "# test_params(X_train, y_train, X_test, y_test, info)\n",
    "\n",
    "# info.hidden_layer_sizes = ((int(D/2), D, int(D/2)))\n",
    "# test_params(X_train, y_train, X_test, y_test, info)\n",
    "\n",
    "# info.learning_rate = \"adaptive\"\n",
    "# info.tol = 1.e-4\n",
    "# test_params(X_train, y_train, X_test, y_test, info)\n",
    "\n",
    "# info.activation = \"logistic\"\n",
    "# test_params(X_train, y_train, X_test, y_test, info)\n",
    "\n",
    "# info.solver = \"adam\"\n",
    "# test_params(X_train, y_train, X_test, y_test, info)"
   ]
  },
  {
   "cell_type": "code",
   "execution_count": 20,
   "metadata": {},
   "outputs": [
    {
     "data": {
      "text/plain": [
       "'\\nTesting the application of a K-Neighbors classifying approach.\\n'"
      ]
     },
     "execution_count": 20,
     "metadata": {},
     "output_type": "execute_result"
    }
   ],
   "source": [
    "'''\n",
    "Testing the application of a K-Neighbors classifying approach.\n",
    "'''\n",
    "\n",
    "# model = KNeighborsClassifier()\n",
    "# model.fit(X_train, y_train)\n",
    "# y_pred = model.predict(X_test)\n",
    "# cm = metrics.confusion_matrix(y_test, y_pred)\n",
    "# cm_plot = metrics.ConfusionMatrixDisplay(cm)\n",
    "# cm_plot.plot()\n",
    "# print(metrics.accuracy_score(y_test, y_pred))\n",
    "\n",
    "# model = KNeighborsClassifier(n_neighbors=10)\n",
    "# model.fit(X_train, y_train)\n",
    "# y_pred = model.predict(X_test)\n",
    "# cm = metrics.confusion_matrix(y_test, y_pred)\n",
    "# cm_plot = metrics.ConfusionMatrixDisplay(cm)\n",
    "# cm_plot.plot()\n",
    "# print(metrics.accuracy_score(y_test, y_pred))\n",
    "\n",
    "# model = KNeighborsClassifier(n_neighbors=3)\n",
    "# model.fit(X_train, y_train)\n",
    "# y_pred = model.predict(X_test)\n",
    "# cm = metrics.confusion_matrix(y_test, y_pred)\n",
    "# cm_plot = metrics.ConfusionMatrixDisplay(cm)\n",
    "# cm_plot.plot()\n",
    "# print(metrics.accuracy_score(y_test, y_pred))"
   ]
  },
  {
   "cell_type": "code",
   "execution_count": 21,
   "metadata": {},
   "outputs": [
    {
     "data": {
      "text/plain": [
       "'\\nTrying using an SVC on the data.\\n'"
      ]
     },
     "execution_count": 21,
     "metadata": {},
     "output_type": "execute_result"
    }
   ],
   "source": [
    "'''\n",
    "Trying using an SVC on the data.\n",
    "'''\n",
    "\n",
    "# svmc = SVC(kernel=\"rbf\")\n",
    "# svmc.fit(X_train, y_train)\n",
    "# y_pred = svmc.predict(X_test)\n",
    "# cm = metrics.confusion_matrix(y_test, y_pred)\n",
    "# cm_plot = metrics.ConfusionMatrixDisplay(cm)\n",
    "# cm_plot.plot()\n",
    "# print(metrics.accuracy_score(y_test, y_pred))\n",
    "\n",
    "# svmc = SVC(C=10, kernel=\"rbf\")\n",
    "# svmc.fit(X_train, y_train)\n",
    "# y_pred = svmc.predict(X_test)\n",
    "# cm = metrics.confusion_matrix(y_test, y_pred)\n",
    "# cm_plot = metrics.ConfusionMatrixDisplay(cm)\n",
    "# cm_plot.plot()\n",
    "# print(metrics.accuracy_score(y_test, y_pred))\n",
    "\n",
    "# sm = SMOTE(random_state=0)\n",
    "# X_train_ovs, y_train_ovs = sm.fit_resample(X_train, y_train)\n",
    "\n",
    "# svmc = SVC(kernel=\"rbf\")\n",
    "# svmc.fit(X_train_ovs, y_train_ovs)\n",
    "# y_pred = svmc.predict(X_test)\n",
    "# cm = metrics.confusion_matrix(y_test, y_pred)\n",
    "# cm_plot = metrics.ConfusionMatrixDisplay(cm)\n",
    "# cm_plot.plot()\n",
    "# print(metrics.accuracy_score(y_test, y_pred))\n",
    "\n",
    "# svmc = SVC(C=10, kernel=\"rbf\")\n",
    "# svmc.fit(X_train_ovs, y_train_ovs)\n",
    "# y_pred = svmc.predict(X_test)\n",
    "# cm = metrics.confusion_matrix(y_test, y_pred)\n",
    "# cm_plot = metrics.ConfusionMatrixDisplay(cm)\n",
    "# cm_plot.plot()\n",
    "# print(metrics.accuracy_score(y_test, y_pred))"
   ]
  },
  {
   "cell_type": "code",
   "execution_count": 22,
   "metadata": {},
   "outputs": [
    {
     "data": {
      "text/plain": [
       "'\\nNext test :\\nTraining a number of `2 * K` classifiers, by using resampling.\\nReminder : K is the number of classes in the dataset.\\n'"
      ]
     },
     "execution_count": 22,
     "metadata": {},
     "output_type": "execute_result"
    }
   ],
   "source": [
    "'''\n",
    "Next test :\n",
    "Training a number of `2 * K` classifiers, by using resampling.\n",
    "Reminder : K is the number of classes in the dataset.\n",
    "'''\n",
    "\n",
    "# nclassifiers = 2 * K\n",
    "# nsamples = int(3 * N_train / nclassifiers)\n",
    "# models = []\n",
    "# info = MLP_training_info(\n",
    "#     hidden_layer_sizes=(int(D/2), int(D/2)),\n",
    "#     activation=\"logistic\",\n",
    "#     solver=\"lbfgs\",\n",
    "#     learning_rate=\"adaptive\"\n",
    "# )\n",
    "\n",
    "# for i in range(nclassifiers):\n",
    "#     bs_X_train, bs_y_train = resample(X_train, y_train, replace=False, n_samples=nsamples, random_state=42)\n",
    "#     m = train_mlp(bs_X_train, bs_y_train, info)\n",
    "#     models.append(m)"
   ]
  },
  {
   "cell_type": "code",
   "execution_count": 23,
   "metadata": {},
   "outputs": [],
   "source": [
    "# y_pred = np.zeros((nclassifiers, N_test))\n",
    "# for i in range(nclassifiers):\n",
    "#     y_pred[i, :] = models[i].predict(X_test)\n",
    "\n",
    "# total_y_pred = np.zeros((N_test))\n",
    "# for i in range(N_test):\n",
    "#     total_y_pred[i] = mode(y_pred[:, i])\n",
    "\n",
    "# cm = metrics.confusion_matrix(y_test, total_y_pred)\n",
    "# cm_plot = metrics.ConfusionMatrixDisplay(cm)\n",
    "# cm_plot.plot()\n",
    "# print(metrics.accuracy_score(y_test, total_y_pred))\n",
    "\n"
   ]
  },
  {
   "cell_type": "code",
   "execution_count": 24,
   "metadata": {},
   "outputs": [
    {
     "name": "stdout",
     "output_type": "stream",
     "text": [
      "  >> Best C : 8.0, accuracy: 0.848\n"
     ]
    }
   ],
   "source": [
    "'''\n",
    "Out of the test we conducted, the best accuracy score we get is: 0.8456\n",
    "Parameters used for training the *SVC*:\n",
    "  <ul>\n",
    "    <li> Kernel : RBF </li>\n",
    "    <li> C : 10 </li>\n",
    "  </ul>\n",
    "*******************\n",
    "We will conduct a final grid search around the neighbourhood of the best value for C.\n",
    "'''\n",
    "\n",
    "nparams = 9\n",
    "c = [8 + 0.5 * i for i in range(nparams)]\n",
    "best_acc = 0.0\n",
    "best_c = 8\n",
    "\n",
    "# Validation set creation for the grid search\n",
    "X_test_star, X_validate, y_test_star, y_validate = model_selection.train_test_split(\n",
    "    X_test, y_test, test_size=0.5, shuffle=False, random_state=0\n",
    ")\n",
    "\n",
    "for i in range(nparams):\n",
    "    c_i = c[i]\n",
    "    model_i = SVC(kernel=\"rbf\", C=c_i)\n",
    "    model_i.fit(X_train, y_train)\n",
    "    pred_i = model_i.predict(X_validate)\n",
    "    acc_i = metrics.accuracy_score(y_validate, pred_i)\n",
    "    if acc_i > best_acc:\n",
    "        best_c = c_i\n",
    "        best_acc = acc_i\n",
    "\n",
    "print(f\"  >> Best C : {best_c}, accuracy: {best_acc}\")"
   ]
  },
  {
   "cell_type": "code",
   "execution_count": 26,
   "metadata": {},
   "outputs": [
    {
     "data": {
      "text/plain": [
       "Text(0.5, 1.0, 'RBF SVC, C = 8.0')"
      ]
     },
     "execution_count": 26,
     "metadata": {},
     "output_type": "execute_result"
    },
    {
     "data": {
      "image/png": "[encoded data removed]",
      "text/plain": [
       "<Figure size 432x288 with 2 Axes>"
      ]
     },
     "metadata": {
      "needs_background": "light"
     },
     "output_type": "display_data"
    }
   ],
   "source": [
    "best_svc = SVC(C=best_c, kernel=\"rbf\")\n",
    "best_svc.fit(np.vstack((X_train, X_validate)), np.concatenate((y_train, y_validate)))\n",
    "y_pred = best_svc.predict(X_test_star)\n",
    "cm_svc = metrics.confusion_matrix(y_test_star, y_pred)\n",
    "cms_plot = metrics.ConfusionMatrixDisplay(cm_svc)\n",
    "cms_plot.plot()\n",
    "cms_plot.ax_.set_title(f\"RBF SVC, C = {best_c}\")"
   ]
  },
  {
   "cell_type": "code",
   "execution_count": 40,
   "metadata": {},
   "outputs": [],
   "source": [
    "'''\n",
    "Predict the values for datasetCTest.csv, and store them in a .npy file.\n",
    "'''\n",
    "test_filename = \"datasetCTest.csv\"\n",
    "labels_filename = \"labels30.npy\"\n",
    "test_samples = np.loadtxt(test_filename, delimiter=\",\", dtype=np.float64)\n",
    "\n",
    "test_pred = best_svc.predict(test_samples)\n",
    "with open(labels_filename, \"wb\") as lf:\n",
    "    np.save(lf, test_pred)"
   ]
  }
 ],
 "metadata": {
  "kernelspec": {
   "display_name": "base",
   "language": "python",
   "name": "python3"
  },
  "language_info": {
   "codemirror_mode": {
    "name": "ipython",
    "version": 3
   },
   "file_extension": ".py",
   "mimetype": "text/x-python",
   "name": "python",
   "nbconvert_exporter": "python",
   "pygments_lexer": "ipython3",
   "version": "3.8.5"
  }
 },
 "nbformat": 4,
 "nbformat_minor": 2
}
